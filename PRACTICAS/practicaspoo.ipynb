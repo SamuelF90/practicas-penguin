{
 "cells": [
  {
   "cell_type": "code",
   "execution_count": null,
   "id": "89891552",
   "metadata": {},
   "outputs": [
    {
     "name": "stdout",
     "output_type": "stream",
     "text": [
      "Mi perro se llama Rufus, tiene 2 años , su raza es doberman y es de color negro \n",
      "Mi perro se llama Rocky, tiene 4 años , su raza es dogo y es de color blanco \n"
     ]
    }
   ],
   "source": [
    "#QUE ES UNA CLASE \n",
    "# Una CLASE es como el plano o molde de la casa, y un OBJETO es cada casa individual que construyes usando ese plano.\n",
    "#class: palabra clave para crear una clase\n",
    "# __init__: constructor que inicializa el objeto\n",
    "# self: referencia al objeto actual\n",
    "# Atributos: variables que pertenecen al objeto (nombre, raza, edad)\n",
    "# Métodos: funciones que puede ejecutar el objeto (ladrar, dormir)\n",
    "\n",
    "class Perro():\n",
    "    def __init__(self,nombre,edad,raza,color):\n",
    "        self.nombre = nombre\n",
    "        self.edad = edad\n",
    "        self.raza = raza\n",
    "        self.color = color \n",
    "    \n",
    "    def mostrar(self):\n",
    "        print(f\"Mi perro se llama {self.nombre}, tiene {self.edad} años , su raza es {self.raza} y es de color {self.color} \")\n",
    "    \n",
    "    \n",
    "mi_perro = Perro(\"Rufus\" , 2, \"doberman\", \"negro\")\n",
    "mi_perro.mostrar()\n",
    "\n",
    "otro_perro = Perro(\"Rocky\", 4 , \"dogo\", \"blanco\")\n",
    "otro_perro.mostrar()\n",
    "\n",
    "    "
   ]
  },
  {
   "cell_type": "code",
   "execution_count": null,
   "id": "61441cc6",
   "metadata": {},
   "outputs": [
    {
     "name": "stdout",
     "output_type": "stream",
     "text": [
      "Diego Maradona\n",
      "Mario Kempes\n"
     ]
    }
   ],
   "source": [
    "#CLASES EN PYTHON\n",
    "#HERENCIA\n",
    "\n",
    "# LA HERENCIA nos permite definir una clase que hereda todos los métodos y propiedades de otra clase.\n",
    "\n",
    "# La clase padre es la clase de la que se hereda, también llamada clase base.\n",
    "\n",
    "# La clase hija es la clase que hereda de otra clase, también llamada clase derivada.\n",
    "\n",
    "\n",
    "class Persona():\n",
    "    def __init__(self,nombre,apellido):\n",
    "        self.nombre = nombre\n",
    "        self.apellido = apellido\n",
    "    def imprimir_nombre(self):\n",
    "        print (self.nombre, self.apellido)\n",
    "\n",
    "x = Persona(\"Diego\", \"Maradona\")\n",
    "x.imprimir_nombre()\n",
    "\n",
    "class Estudiante(Persona):\n",
    "    pass\n",
    "\n",
    "x = Estudiante(\"Mario\", \"Kempes\")\n",
    "x.imprimir_nombre()\n",
    "    \n",
    "        \n",
    "    "
   ]
  }
 ],
 "metadata": {
  "kernelspec": {
   "display_name": "Python 3",
   "language": "python",
   "name": "python3"
  },
  "language_info": {
   "codemirror_mode": {
    "name": "ipython",
    "version": 3
   },
   "file_extension": ".py",
   "mimetype": "text/x-python",
   "name": "python",
   "nbconvert_exporter": "python",
   "pygments_lexer": "ipython3",
   "version": "3.12.1"
  }
 },
 "nbformat": 4,
 "nbformat_minor": 5
}
