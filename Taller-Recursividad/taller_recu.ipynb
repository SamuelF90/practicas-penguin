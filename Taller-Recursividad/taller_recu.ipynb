{
 "cells": [
  {
   "cell_type": "code",
   "execution_count": null,
   "id": "09d0646b",
   "metadata": {},
   "outputs": [],
   "source": [
    "def invertir_cadena(cadena):\n",
    "    #Caso Base - La longitud de nuestra cadena es 0\n",
    "    if  len(cadena) == 0: \n",
    "        return ''\n",
    "    else: \n",
    "        ultimo_caracter = cadena[-1]\n",
    "        \n",
    "        resto_invertido = invertir_cadena(cadena:[-1])\n",
    "        return ultimo_caracter + resto_invertido\n",
    "\n",
    "resultado = invertir_cadena(penguin)\n",
    "   \n",
    "        "
   ]
  },
  {
   "cell_type": "code",
   "execution_count": 6,
   "id": "cfe0baf9",
   "metadata": {},
   "outputs": [
    {
     "name": "stdout",
     "output_type": "stream",
     "text": [
      "60\n"
     ]
    }
   ],
   "source": [
    "def suma_digitos (n):\n",
    "    \n",
    "    if n == 0:\n",
    "        return 0\n",
    "    else: \n",
    "    #Pasos Recursivos - extrae el ultimo digito\n",
    "        ultimo_digito = n % 10\n",
    "#Llamar a la funcion recursivamente\n",
    "    resto_digitos = suma_digitos(n//10)\n",
    "    return ultimo_digito + resto_digitos \n",
    "resultado = suma_digitos(1234567891011121314)\n",
    "print(resultado)   "
   ]
  },
  {
   "cell_type": "code",
   "execution_count": null,
   "id": "fad2f657",
   "metadata": {},
   "outputs": [],
   "source": [
    "class Nodo:\n",
    "    def __init__(self,valor):\n",
    "        self.valor = valor\n",
    "        self.izquierdo = None\n",
    "        self.derecho = None\n",
    "    def preorden (nodo):\n",
    "        #Caso Base \n",
    "        if nodo is None:\n",
    "            return \" \"\n",
    "        #Caso Recursivo \n",
    "        print (nodo.valor, end = ' ')\n",
    "        preorden(nodo.izquierdo)\n",
    "        preorden(nodo.derecho)\n",
    "        \n",
    "    def inorden(nodo):\n",
    "        if nodo is None: \n",
    "            return \" \"\n",
    "        inorden(nodo.izquierdo)\n",
    "        print(nodo.valor,end = ' ')\n",
    "        inorden(nodo.derecho)\n",
    "        \n",
    "    def postorden(nodo.izquierdo)\n",
    "        if nodo == None :\n",
    "        return ' '\n",
    "    "
   ]
  },
  {
   "cell_type": "code",
   "execution_count": null,
   "id": "1cb71f06",
   "metadata": {},
   "outputs": [],
   "source": [
    "def contar_nodos(nodo):\n",
    "    if nodo == None: \n",
    "    return 0\n",
    "\n",
    "    return 1 + contar_nodos(nodo.izquierdo) + contar_nodos(nodo.derecho)\n",
    "\n",
    "print ('\\nNumero de nodos en el arbol:', contar_nodos[raiz])"
   ]
  },
  {
   "cell_type": "code",
   "execution_count": null,
   "id": "6585de58",
   "metadata": {},
   "outputs": [],
   "source": [
    "cadena = 'penguin'\n",
    "print (cadena[-1])"
   ]
  }
 ],
 "metadata": {
  "kernelspec": {
   "display_name": "Python 3",
   "language": "python",
   "name": "python3"
  },
  "language_info": {
   "codemirror_mode": {
    "name": "ipython",
    "version": 3
   },
   "file_extension": ".py",
   "mimetype": "text/x-python",
   "name": "python",
   "nbconvert_exporter": "python",
   "pygments_lexer": "ipython3",
   "version": "3.12.1"
  }
 },
 "nbformat": 4,
 "nbformat_minor": 5
}
