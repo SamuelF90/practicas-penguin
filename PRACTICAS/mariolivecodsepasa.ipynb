{
 "cells": [
  {
   "cell_type": "code",
   "execution_count": 26,
   "id": "71fb113f",
   "metadata": {},
   "outputs": [
    {
     "data": {
      "text/plain": [
       "[['.', '.', '.', '.', '.'],\n",
       " ['.', '.', '.', '.', '.'],\n",
       " ['.', '.', '.', '.', '.'],\n",
       " ['.', '.', '.', '.', '.'],\n",
       " ['.', '.', '.', '.', '.']]"
      ]
     },
     "execution_count": 26,
     "metadata": {},
     "output_type": "execute_result"
    }
   ],
   "source": [
    "# crear matriz\n",
    "def matriz(filas,columnas):\n",
    "    return[['.'for _ in range(columnas)] for _ in range(filas) ]\n",
    "matriz(5,5)"
   ]
  },
  {
   "cell_type": "code",
   "execution_count": null,
   "id": "9bf51856",
   "metadata": {},
   "outputs": [
    {
     "data": {
      "text/plain": [
       "[['A', '.', '.', '.', '.'],\n",
       " ['.', '.', '.', '.', '.'],\n",
       " ['.', '.', '.', '.', '.'],\n",
       " ['.', '.', '.', '.', '.'],\n",
       " ['.', '.', '.', '.', 'Z']]"
      ]
     },
     "execution_count": 7,
     "metadata": {},
     "output_type": "execute_result"
    }
   ],
   "source": [
    "# agregar inicio/fin\n",
    "def inicio_fin(mapa,inicio,fin):\n",
    "    mapa[inicio[0]][inicio[1]] = 'A'\n",
    "    mapa[fin[0]][fin[1]]= 'Z'\n",
    "    \n",
    "inicio_fin(matriz(5, 5),(0, 0),(4, 4))\n",
    "inicio_fin()    "
   ]
  },
  {
   "cell_type": "code",
   "execution_count": 9,
   "id": "b05148c5",
   "metadata": {},
   "outputs": [
    {
     "data": {
      "text/plain": [
       "[['.', '.', '.', '.', '.'],\n",
       " ['.', '.', '.', '.', '.'],\n",
       " ['.', '.', '.', '.', '.'],\n",
       " ['.', '.', '.', '#', '.'],\n",
       " ['.', '.', '.', '.', '.']]"
      ]
     },
     "execution_count": 9,
     "metadata": {},
     "output_type": "execute_result"
    }
   ],
   "source": [
    "# agregar obstaculo\n",
    "def pos_obs(mapa,obstaculo):\n",
    "    mapa[obstaculo[0]][obstaculo[1]] = '#'\n",
    "    return(mapa)\n",
    "pos_obs(matriz(5,5),(3,3))"
   ]
  },
  {
   "cell_type": "code",
   "execution_count": 20,
   "id": "a75a662a",
   "metadata": {},
   "outputs": [
    {
     "name": "stdout",
     "output_type": "stream",
     "text": [
      ". . . . . . . .\n",
      ". . . . . . . .\n",
      ". . . . . . . .\n",
      ". . . . . . . .\n",
      ". . . . . . . .\n",
      "\n"
     ]
    }
   ],
   "source": [
    "# mostrar mapa\n",
    "def mostrar_matriz(mapa):\n",
    "    for filas in mapa:\n",
    "        print(\" \".join(filas))\n",
    "    print()\n",
    "mostrar_matriz(matriz(5,8))"
   ]
  },
  {
   "cell_type": "code",
   "execution_count": null,
   "id": "41699560",
   "metadata": {},
   "outputs": [],
   "source": [
    "# Implementar funcionalidad\n",
    "# crear matriz\n",
    "# solicitar al usuario coordenadas para el punto de inicio\n",
    "# solicitar al usuario coordenadas para el punto final\n",
    "# agregar al mapa las coordenadas de los puntos inicio/final\n",
    "# solicitar al usuario coordenadas para el obstaculo\n",
    "# agregar al mapa las coordenadas del obstaculo\n",
    "# mostrar mapa"
   ]
  },
  {
   "cell_type": "code",
   "execution_count": 21,
   "id": "e2feeaec",
   "metadata": {},
   "outputs": [
    {
     "name": "stdout",
     "output_type": "stream",
     "text": [
      ". . . . .\n",
      ". . . . .\n",
      ". . . . .\n",
      ". . . . .\n",
      ". . . . .\n",
      "\n",
      "A . . . .\n",
      ". . . . .\n",
      ". . . . #\n",
      ". . . # .\n",
      ". . . . Z\n",
      "\n"
     ]
    }
   ],
   "source": [
    "def main():\n",
    "    filas = int(input(\"Ingrese Filas: \"))\n",
    "    columnas = int (input(\"Ingrese Columnas:\"))\n",
    "    mapa = matriz(filas,columnas)\n",
    "    mostrar_matriz(mapa)\n",
    "    \n",
    "    inicio_filas = int (input(\"Ingrese Inicio Filas : \"))\n",
    "    inicio_columnas = int(input(\"Ingrese Inicio Columnas: \"))\n",
    "    inicio_t = (inicio_filas,inicio_columnas)\n",
    "    fin_fil = int (input(\"Ingrese Fin Filas : \"))\n",
    "    fin_col = int (input(\"Ingrese Columnas Fin : \"))\n",
    "    fin_t = (fin_fil, fin_col)\n",
    "    inicio_fin(mapa,inicio_t,fin_t)\n",
    "    \n",
    "    obstaculo_fil= int(input(\"Ingrese Obstaculo Fila : \"))\n",
    "    obstaculo_col = int(input(\"Ingrese Obstaculo Columna : \"))  \n",
    "    obs = (obstaculo_fil, obstaculo_col)\n",
    "    pos_obs(mapa,obs)\n",
    "    \n",
    "    obstaculo_fil_2 = int(input(\"Ingrese Segundo Obstaculo Fila : \"))\n",
    "    obstaculo_col_2 = int(input(\"Ingrese Segundo Obstaculo Columna:\"))\n",
    "    obs2 = (obstaculo_fil_2,obstaculo_col_2)\n",
    "    pos_obs(mapa,obs2)\n",
    "    \n",
    "    mostrar_matriz(mapa)\n",
    "\n",
    "\n",
    "\n",
    "\n",
    "\n",
    "main()    \n"
   ]
  },
  {
   "cell_type": "code",
   "execution_count": 24,
   "id": "422c6a0d",
   "metadata": {},
   "outputs": [
    {
     "name": "stdout",
     "output_type": "stream",
     "text": [
      ". A. A. A. A.\n",
      ". A. A. A. A.\n",
      ". A. A. A. A.\n",
      ". A. A. A. A.\n",
      ". A. A. A. A.\n"
     ]
    }
   ],
   "source": [
    "def imprimir_matriz(mapa):\n",
    "    for durazno in mapa:\n",
    "      print( \" A\".join(durazno))\n",
    "        \n",
    "imprimir_matriz(matriz(5,5))\n"
   ]
  }
 ],
 "metadata": {
  "kernelspec": {
   "display_name": "Python 3",
   "language": "python",
   "name": "python3"
  },
  "language_info": {
   "codemirror_mode": {
    "name": "ipython",
    "version": 3
   },
   "file_extension": ".py",
   "mimetype": "text/x-python",
   "name": "python",
   "nbconvert_exporter": "python",
   "pygments_lexer": "ipython3",
   "version": "3.12.1"
  }
 },
 "nbformat": 4,
 "nbformat_minor": 5
}
