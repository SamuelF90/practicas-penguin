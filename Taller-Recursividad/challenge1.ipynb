{
 "cells": [
  {
   "cell_type": "markdown",
   "id": "e03f6e5e",
   "metadata": {},
   "source": [
    "### - Crear una matriz"
   ]
  },
  {
   "cell_type": "code",
   "execution_count": null,
   "id": "d2e37b4d",
   "metadata": {},
   "outputs": [],
   "source": [
    "def crear_matriz(filas, columnas):\n",
    "    '''crear matriz'''"
   ]
  },
  {
   "cell_type": "markdown",
   "id": "298a4d79",
   "metadata": {},
   "source": [
    "### - Validar"
   ]
  },
  {
   "cell_type": "code",
   "execution_count": null,
   "id": "851cf890",
   "metadata": {},
   "outputs": [],
   "source": [
    "def validar(matriz, fila, columna):\n",
    "    '''validar'''"
   ]
  },
  {
   "cell_type": "markdown",
   "id": "215537c0",
   "metadata": {},
   "source": [
    "### - Agregar punto inicial"
   ]
  },
  {
   "cell_type": "code",
   "execution_count": null,
   "id": "8ed62b8e",
   "metadata": {},
   "outputs": [],
   "source": [
    "def agregar_punto_inical(matriz, fila, columna):\n",
    "    '''agregar punto inicial'''"
   ]
  },
  {
   "cell_type": "markdown",
   "id": "c37df880",
   "metadata": {},
   "source": [
    "### - Agregar punto final"
   ]
  },
  {
   "cell_type": "code",
   "execution_count": null,
   "id": "3806924c",
   "metadata": {},
   "outputs": [],
   "source": [
    "def agregar_punto_final(matriz, fila, columna):\n",
    "    '''agregar punto final'''"
   ]
  },
  {
   "cell_type": "markdown",
   "id": "b17e8a14",
   "metadata": {},
   "source": [
    "### - Agregar obstaculo"
   ]
  },
  {
   "cell_type": "code",
   "execution_count": null,
   "id": "9f7c74de",
   "metadata": {},
   "outputs": [],
   "source": [
    "def agregar_obstaculo(matriz, fila, columna):\n",
    "    '''agregar obstaculo'''"
   ]
  },
  {
   "cell_type": "markdown",
   "id": "5d96ee9b",
   "metadata": {},
   "source": [
    "### - Mostrar matriz"
   ]
  },
  {
   "cell_type": "code",
   "execution_count": null,
   "id": "212a7452",
   "metadata": {},
   "outputs": [],
   "source": [
    "def mostrar_matriz(matriz):\n",
    "    '''mostrar matriz'''"
   ]
  },
  {
   "cell_type": "markdown",
   "id": "7cce1695",
   "metadata": {},
   "source": [
    "# --- Implementar ---"
   ]
  },
  {
   "cell_type": "code",
   "execution_count": 4,
   "id": "f940c1b0",
   "metadata": {},
   "outputs": [],
   "source": [
    "# Crear matriz\n",
    "\n",
    "# agregar punto inicio\n",
    "\n",
    "# agregar punto final\n",
    "\n",
    "# agregar obstaculo\n",
    "\n",
    "# mostrar matriz"
   ]
  }
 ],
 "metadata": {
  "kernelspec": {
   "display_name": "Python 3",
   "language": "python",
   "name": "python3"
  },
  "language_info": {
   "codemirror_mode": {
    "name": "ipython",
    "version": 3
   },
   "file_extension": ".py",
   "mimetype": "text/x-python",
   "name": "python",
   "nbconvert_exporter": "python",
   "pygments_lexer": "ipython3",
   "version": "3.12.1"
  }
 },
 "nbformat": 4,
 "nbformat_minor": 5
}
