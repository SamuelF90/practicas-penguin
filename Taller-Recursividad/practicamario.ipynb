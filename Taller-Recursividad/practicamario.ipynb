{
 "cells": [
  {
   "cell_type": "code",
   "execution_count": null,
   "id": "031c5bbd",
   "metadata": {},
   "outputs": [],
   "source": []
  },
  {
   "cell_type": "code",
   "execution_count": null,
   "id": "f5eb4031",
   "metadata": {},
   "outputs": [],
   "source": [
    "\n"
   ]
  },
  {
   "cell_type": "code",
   "execution_count": null,
   "id": "13f00218",
   "metadata": {},
   "outputs": [
    {
     "name": "stdout",
     "output_type": "stream",
     "text": [
      "['toyota', 'renault', 'nissan']\n"
     ]
    }
   ],
   "source": [
    "autos= [\"toyota\",\"renault\",\"nissan\"]\n",
    "print(autos)\n",
    "\n"
   ]
  },
  {
   "cell_type": "code",
   "execution_count": 5,
   "id": "9e4f7e6c",
   "metadata": {},
   "outputs": [
    {
     "name": "stdout",
     "output_type": "stream",
     "text": [
      "renault\n"
     ]
    }
   ],
   "source": [
    "autos[1]\n",
    "print (autos[1])"
   ]
  },
  {
   "cell_type": "code",
   "execution_count": 6,
   "id": "04500610",
   "metadata": {},
   "outputs": [
    {
     "name": "stdout",
     "output_type": "stream",
     "text": [
      "['alfa romeo', 'renault', 'nissan']\n"
     ]
    }
   ],
   "source": [
    "autos[0]= \"alfa romeo\"\n",
    "print(autos)"
   ]
  },
  {
   "cell_type": "code",
   "execution_count": null,
   "id": "606d67f3",
   "metadata": {},
   "outputs": [
    {
     "name": "stdout",
     "output_type": "stream",
     "text": [
      "[]\n"
     ]
    }
   ],
   "source": [
    "#crear una lista\n",
    "autos = []\n",
    "print(autos)\n",
    "\n"
   ]
  },
  {
   "cell_type": "code",
   "execution_count": 16,
   "id": "a96701bd",
   "metadata": {},
   "outputs": [
    {
     "name": "stdout",
     "output_type": "stream",
     "text": [
      "[['.', '.', '.', '.', '.'], ['.', '.', '.', '.', '.'], ['.', '.', '.', '.', '.'], ['.', '.', '.', '.', '.'], ['.', '.', '.', '.', '.']]\n"
     ]
    }
   ],
   "source": [
    "matriz = []\n",
    "for i in range (5):\n",
    "    aux = []\n",
    "\n",
    "    for j in range (5):\n",
    "        aux.append('.')\n",
    "        # matriz[i][j]= \".\"\n",
    "    matriz.append(aux)\n",
    "print (matriz)"
   ]
  },
  {
   "cell_type": "code",
   "execution_count": 23,
   "id": "5b58bdcc",
   "metadata": {},
   "outputs": [
    {
     "name": "stdout",
     "output_type": "stream",
     "text": [
      ".....\n",
      ".....\n",
      ".....\n",
      ".....\n",
      ".....\n"
     ]
    }
   ],
   "source": [
    "\n",
    "for i in range (5):\n",
    "    \n",
    "\n",
    "    for j in range (5):\n",
    "        print (\".\",end= '')\n",
    "    print()"
   ]
  },
  {
   "cell_type": "code",
   "execution_count": 20,
   "id": "f46f63f5",
   "metadata": {},
   "outputs": [
    {
     "name": "stdout",
     "output_type": "stream",
     "text": [
      "[['.', '.', '.', '.', '.'], ['.', '.', '.', '.', '.'], ['.', '.', '.', '.', '.'], ['.', '.', '.', '.', '.'], ['.', '.', '.', '.', '.']]\n"
     ]
    }
   ],
   "source": [
    "def crear_mapa(filas, columnas):\n",
    "    return[['.' for _ in range(columnas)] for _ in range(filas)] \n",
    "print(crear_mapa(filas=5, columnas= 5))"
   ]
  }
 ],
 "metadata": {
  "kernelspec": {
   "display_name": "Python 3",
   "language": "python",
   "name": "python3"
  },
  "language_info": {
   "codemirror_mode": {
    "name": "ipython",
    "version": 3
   },
   "file_extension": ".py",
   "mimetype": "text/x-python",
   "name": "python",
   "nbconvert_exporter": "python",
   "pygments_lexer": "ipython3",
   "version": "3.12.1"
  }
 },
 "nbformat": 4,
 "nbformat_minor": 5
}
